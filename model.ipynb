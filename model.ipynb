{
 "cells": [
  {
   "cell_type": "code",
   "execution_count": null,
   "id": "08e0612f-abf9-40e4-bf76-1e38a8d39b30",
   "metadata": {},
   "outputs": [],
   "source": [
    "import numpy as np\n",
    "import pandas as pd\n",
    "import plotly.express as px"
   ]
  },
  {
   "cell_type": "code",
   "execution_count": null,
   "id": "f2ad191b-f69f-4268-ac1a-a677b2fb3757",
   "metadata": {},
   "outputs": [],
   "source": [
    "data = pd.read_csv('data/deliverytime.txt')"
   ]
  },
  {
   "cell_type": "code",
   "execution_count": null,
   "id": "333982be-80cc-432f-950f-9379de3de9cc",
   "metadata": {},
   "outputs": [],
   "source": [
    "data.head()"
   ]
  },
  {
   "cell_type": "code",
   "execution_count": null,
   "id": "b89c7c96-07cd-4abc-b358-71ab8c95ed35",
   "metadata": {},
   "outputs": [],
   "source": [
    "data.info()"
   ]
  },
  {
   "cell_type": "code",
   "execution_count": null,
   "id": "90647795-85f9-424b-923f-bfd05f0e0663",
   "metadata": {},
   "outputs": [],
   "source": [
    "data.isnull().sum()"
   ]
  },
  {
   "cell_type": "code",
   "execution_count": null,
   "id": "7392cbeb-668e-4131-91f7-a2c0b2ccd173",
   "metadata": {},
   "outputs": [],
   "source": [
    "# Add distance feature using latitute and longitute of the given point using haversine formula\n",
    "\n",
    "r = 6371\n",
    "\n",
    "# Convert deg to radian\n",
    "def deg_to_rad(deg):\n",
    "    return deg * np.pi/180\n",
    "\n",
    "def calculate_distance(lat1, lon1, lat2, lon2):\n",
    "    lat_diff = deg_to_rad(lat2-lat1)\n",
    "    lon_diff = deg_to_rad(lon2-lon1)\n",
    "    h = np.square(lat_diff/2)+ np.cos(deg_to_rad(lat1))*np.cos(deg_to_rad(lat2))*np.square(lon_diff/2)\n",
    "    d = round(2*r*np.arcsin(min(1,np.sqrt(h))),3)\n",
    "    return d"
   ]
  },
  {
   "cell_type": "code",
   "execution_count": null,
   "id": "2e4460bb-f42f-43d4-ae25-bad77f22f1a6",
   "metadata": {},
   "outputs": [],
   "source": [
    "calculate_distance(22.745049, 75.892471, 22.765049, 75.912471)"
   ]
  },
  {
   "cell_type": "code",
   "execution_count": null,
   "id": "36a3dc97-fe74-469e-8495-6dda29535bee",
   "metadata": {},
   "outputs": [],
   "source": [
    "data.columns"
   ]
  },
  {
   "cell_type": "code",
   "execution_count": null,
   "id": "76d7acaa-578b-4ea5-bad2-d7a52ed83d1a",
   "metadata": {},
   "outputs": [],
   "source": [
    "# Calculate distance of each point\n",
    "\n",
    "data['distance'] = np.nan"
   ]
  },
  {
   "cell_type": "code",
   "execution_count": null,
   "id": "ce32ef76-1a95-4c4a-8dd6-896e7be3bbe5",
   "metadata": {},
   "outputs": [],
   "source": [
    "for i in range(len(data)):\n",
    "    data.loc[i,'distance'] = calculate_distance(data.loc[i, 'Restaurant_latitude'],\n",
    "                                                data.loc[i, 'Restaurant_longitude'],\n",
    "                                                data.loc[i, 'Delivery_location_latitude'],\n",
    "                                                data.loc[i, 'Delivery_location_longitude'])"
   ]
  },
  {
   "cell_type": "code",
   "execution_count": null,
   "id": "948208cc-bc62-4244-9627-83bc41c56477",
   "metadata": {},
   "outputs": [],
   "source": [
    "data.head()"
   ]
  },
  {
   "cell_type": "code",
   "execution_count": null,
   "id": "c2819d14-a758-4c96-8c75-0abb8aed98d1",
   "metadata": {},
   "outputs": [],
   "source": [
    "data.isnull().sum()"
   ]
  },
  {
   "cell_type": "code",
   "execution_count": null,
   "id": "b75516ca-eee8-42b2-a84b-23c4ed1ad01c",
   "metadata": {},
   "outputs": [],
   "source": [
    "# Data exploration part\n",
    "\n",
    "fig = px.scatter(data,\n",
    "                 x=\"distance\",\n",
    "                 y=\"Time_taken(min)\",\n",
    "                 size=\"Time_taken(min)\",\n",
    "                 trendline=\"ols\",\n",
    "                 title=\"Relationship Between Distance and Time Taken\",\n",
    "                 trendline_color_override=\"red\"\n",
    "                )\n",
    "fig.update_layout(\n",
    "    width=700,\n",
    "    height=500\n",
    ")\n",
    "fig.show()"
   ]
  },
  {
   "cell_type": "markdown",
   "id": "3dddf4d4-0d2f-49b0-8d00-5f0a9fe605a0",
   "metadata": {},
   "source": [
    "It means that most of the delivery parter deliver food in the range of 25-30 min of time"
   ]
  },
  {
   "cell_type": "code",
   "execution_count": null,
   "id": "8438d970-86a7-43f2-83ca-c20132b0e29f",
   "metadata": {},
   "outputs": [],
   "source": [
    "data.columns"
   ]
  },
  {
   "cell_type": "code",
   "execution_count": null,
   "id": "e320d7fb-5cf8-46ef-99ef-c90a0a8ad1e1",
   "metadata": {},
   "outputs": [],
   "source": [
    "# Now let’s have a look at the relationship between the time taken to deliver the food and the age of the delivery partner:\n",
    "\n",
    "fig = px.scatter(data,\n",
    "                 x=\"Delivery_person_Age\",\n",
    "                 y=\"Time_taken(min)\",\n",
    "                 size=\"Time_taken(min)\",\n",
    "                 color=\"distance\",\n",
    "                 trendline=\"ols\",\n",
    "                 trendline_color_override=\"red\",\n",
    "                 title=\"Relationship Between Time Taken and Age\"\n",
    "                )\n",
    "\n",
    "fig.update_layout(\n",
    "    width=900,\n",
    "    height=500\n",
    ")\n",
    "fig.show()\n",
    "                 "
   ]
  },
  {
   "cell_type": "markdown",
   "id": "a6c070d7-adb4-45d6-a485-56d7821e031c",
   "metadata": {},
   "source": [
    "There is a linear relationship between the time taken to deliver the food and the age of the delivery partner. It means young delivery partners take less time to deliver the food compared to the elder partners."
   ]
  },
  {
   "cell_type": "code",
   "execution_count": null,
   "id": "8cb7024a-9960-4880-9c6b-8def8b610b4b",
   "metadata": {},
   "outputs": [],
   "source": [
    "# Now let’s have a look at the relationship between the time taken to deliver the food and the ratings of the delivery partner:\n",
    "\n",
    "fig = px.scatter(data,\n",
    "                 x=\"Delivery_person_Ratings\",\n",
    "                 y=\"Time_taken(min)\",\n",
    "                 size=\"Time_taken(min)\",\n",
    "                 color=\"distance\",\n",
    "                 trendline=\"ols\",\n",
    "                 trendline_color_override=\"red\",\n",
    "                 title=\"Relationship between the time taken to deliver the food and the ratings of the delivery partner\"\n",
    "                )\n",
    "\n",
    "fig.update_layout(\n",
    "    width=900,\n",
    "    height=500\n",
    ")\n",
    "fig.show()"
   ]
  },
  {
   "cell_type": "markdown",
   "id": "bfccba98-585f-4dbf-8f74-39ff1bc45d5e",
   "metadata": {},
   "source": [
    "There is an inverse linear relationship between the time taken to deliver the food and the ratings of the delivery partner. It means delivery partners with higher ratings take less time to deliver the food compared to partners with low ratings."
   ]
  },
  {
   "cell_type": "code",
   "execution_count": null,
   "id": "d3af93f0-b3f1-4e59-ad26-2d658bebca1d",
   "metadata": {},
   "outputs": [],
   "source": [
    "# Now let’s have a look if the type of food ordered by the customer and the type of vehicle used by the delivery partner affects the delivery time or not:\n",
    "\n",
    "fig = px.box(data,\n",
    "             x=\"Type_of_vehicle\",\n",
    "             y=\"Time_taken(min)\",\n",
    "             color=\"Type_of_order\"\n",
    "            )\n",
    "\n",
    "fig.update_layout(\n",
    "    width=900,\n",
    "    height=500\n",
    ")\n",
    "\n",
    "fig.show()"
   ]
  },
  {
   "cell_type": "markdown",
   "id": "60d87a24-17a5-49b8-b4b4-b588e25e55a2",
   "metadata": {},
   "source": [
    "So there is not much difference between the time taken by delivery partners depending on the vehicle they are driving and the type of food they are delivering."
   ]
  },
  {
   "cell_type": "markdown",
   "id": "216964e5-0b05-45b3-bcf0-14bdc09fa387",
   "metadata": {},
   "source": [
    "### So the features that contribute most to the food delivery time based on our analysis are:\n",
    "\n",
    "* age of the delivery partner\n",
    "* ratings of the delivery partner\n",
    "* distance between the restaurant and the delivery location"
   ]
  },
  {
   "cell_type": "code",
   "execution_count": null,
   "id": "8d0e6aaf-61da-4f13-941f-56c1f2c9422c",
   "metadata": {},
   "outputs": [],
   "source": [
    "data.columns"
   ]
  },
  {
   "cell_type": "code",
   "execution_count": null,
   "id": "8c03d6b2-dcb6-4ff3-9ded-0d57a6a1dde5",
   "metadata": {},
   "outputs": [],
   "source": [
    "# Splitting the data in train and test dataset\n",
    "\n",
    "from sklearn.model_selection import train_test_split"
   ]
  },
  {
   "cell_type": "code",
   "execution_count": null,
   "id": "f417db4a-90b6-45c6-a2f3-0be4347e9c78",
   "metadata": {},
   "outputs": [],
   "source": [
    "X = np.array(data[['Delivery_person_Age',\n",
    "                   'Delivery_person_Ratings',\n",
    "                   'distance']]\n",
    "            )\n",
    "y = np.array(data[['Time_taken(min)']])\n",
    "\n",
    "X_train, X_test, y_train, y_test = train_test_split(\n",
    "    X,\n",
    "    y,\n",
    "    test_size=0.2,\n",
    "    random_state=42\n",
    ")"
   ]
  },
  {
   "cell_type": "code",
   "execution_count": null,
   "id": "f51624e7-0fbe-4be4-9b6a-22966c571e08",
   "metadata": {},
   "outputs": [],
   "source": []
  }
 ],
 "metadata": {
  "kernelspec": {
   "display_name": "Python 3 (ipykernel)",
   "language": "python",
   "name": "python3"
  },
  "language_info": {
   "codemirror_mode": {
    "name": "ipython",
    "version": 3
   },
   "file_extension": ".py",
   "mimetype": "text/x-python",
   "name": "python",
   "nbconvert_exporter": "python",
   "pygments_lexer": "ipython3",
   "version": "3.11.5"
  }
 },
 "nbformat": 4,
 "nbformat_minor": 5
}
